{
 "cells": [
  {
   "cell_type": "markdown",
   "source": [
    "# Smart Buildings Lab 2\r\n"
   ],
   "metadata": {}
  },
  {
   "cell_type": "code",
   "execution_count": 2,
   "source": [
    "import pandas as pd \r\n",
    "import seaborn\r\n",
    "\r\n",
    "df = pd.read_csv('lab2.csv')"
   ],
   "outputs": [],
   "metadata": {}
  },
  {
   "cell_type": "markdown",
   "source": [
    "# Questions\r\n",
    "\r\n",
    "## How many students didn’t finish their assignments according to GitHub?\r\n"
   ],
   "metadata": {}
  },
  {
   "cell_type": "code",
   "execution_count": 3,
   "source": [
    "completed = len(df)\r\n",
    "uncompleted = 18 - completed\r\n",
    "print(f'{uncompleted} students did not finish their assigment')"
   ],
   "outputs": [
    {
     "output_type": "stream",
     "name": "stdout",
     "text": [
      "3 students did not finish their assigment\n"
     ]
    }
   ],
   "metadata": {}
  },
  {
   "cell_type": "markdown",
   "source": [
    "## How many students support Elmo?\r\n"
   ],
   "metadata": {}
  },
  {
   "cell_type": "code",
   "execution_count": 7,
   "source": [
    "sesame_counts = df['sesame'].value_counts()\r\n",
    "elmo = sesame_counts['elmo']\r\n",
    "\r\n",
    "print(f'{elmo} people support Elmo')"
   ],
   "outputs": [
    {
     "output_type": "stream",
     "name": "stdout",
     "text": [
      "3 people support Elmo\n"
     ]
    }
   ],
   "metadata": {}
  },
  {
   "cell_type": "markdown",
   "source": [
    "## How many students support cookie monster and are night owls?\r\n"
   ],
   "metadata": {}
  },
  {
   "cell_type": "code",
   "execution_count": 12,
   "source": [
    "cn = df.loc[(df.sesame == 'cookie monster') & (df.sleep == 'night owl')]\r\n",
    "l_cn = len(c)\r\n",
    "print(f'{l} people support Cookie Monster and are night owls')"
   ],
   "outputs": [
    {
     "output_type": "stream",
     "name": "stdout",
     "text": [
      "5 people support Cookie Monster and are night owls\n"
     ]
    }
   ],
   "metadata": {}
  },
  {
   "cell_type": "markdown",
   "source": [
    "## How many students do not support Elmo, does not play rock, and are morning birds?\r\n"
   ],
   "metadata": {}
  },
  {
   "cell_type": "code",
   "execution_count": 14,
   "source": [
    "erm = df.loc[(df.sesame != 'elmo') & (df.rps != 'rock') & (df.sleep != 'morning bird')]\r\n",
    "l_erm = len(erm)\r\n",
    "print(f'{l_erm} students do not support Elmo, does not play rock, and are morning birds')"
   ],
   "outputs": [
    {
     "output_type": "stream",
     "name": "stdout",
     "text": [
      "6 students do not support Elmo, does not play rock, and are morning birds\n"
     ]
    }
   ],
   "metadata": {}
  }
 ],
 "metadata": {
  "orig_nbformat": 4,
  "language_info": {
   "name": "python",
   "version": "3.8.3",
   "mimetype": "text/x-python",
   "codemirror_mode": {
    "name": "ipython",
    "version": 3
   },
   "pygments_lexer": "ipython3",
   "nbconvert_exporter": "python",
   "file_extension": ".py"
  },
  "kernelspec": {
   "name": "python3",
   "display_name": "Python 3.8.3 64-bit ('base': conda)"
  },
  "interpreter": {
   "hash": "b3ba2566441a7c06988d0923437866b63cedc61552a5af99d1f4fb67d367b25f"
  }
 },
 "nbformat": 4,
 "nbformat_minor": 2
}